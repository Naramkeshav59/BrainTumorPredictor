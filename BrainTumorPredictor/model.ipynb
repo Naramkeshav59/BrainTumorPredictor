{
 "cells": [
  {
   "cell_type": "code",
   "execution_count": 1,
   "metadata": {},
   "outputs": [],
   "source": [
    "import os \n",
    "import numpy as np\n",
    "import pandas as pd\n",
    "import matplotlib.pyplot as plt\n",
    "import cv2\n",
    "from sklearn.model_selection import train_test_split\n",
    "from sklearn.model_selection import RandomizedSearchCV\n",
    "from sklearn.ensemble import RandomForestClassifier\n",
    "import joblib"
   ]
  },
  {
   "cell_type": "code",
   "execution_count": 2,
   "metadata": {},
   "outputs": [],
   "source": [
    "def preprocess(path):\n",
    "    img = np.array(cv2.imread(path,cv2.IMREAD_GRAYSCALE)) #reading images into grayscale\n",
    "    img = cv2.resize(img,(200,200))\n",
    "    X_flattened = np.reshape(img,-1)\n",
    "    X_flattened = X_flattened/255\n",
    "    return X_flattened"
   ]
  },
  {
   "cell_type": "code",
   "execution_count": 4,
   "metadata": {},
   "outputs": [],
   "source": [
    "path1 = \"../yes/\" \n",
    "path2 = \"../no/\"\n",
    "tumor_yes = os.listdir(path1)\n",
    "tumor_no = os.listdir(path2)\n",
    "\n",
    "#intialize the feature vectors to empty lists\n",
    "\n",
    "X = [] #feature vector initialisation\n",
    "Y = [] #target variable initialisation\n",
    "\n",
    "for i in tumor_yes:\n",
    "    img = np.array(cv2.imread(path1 + i,cv2.IMREAD_GRAYSCALE)) #reading images into grayscale\n",
    "    img = cv2.resize(img,(200,200))\n",
    "    X.append(img)\n",
    "    Y.append(1) #encoding as 1 if tumor is present\n",
    "\n",
    "for i in tumor_no:\n",
    "    img = np.array(cv2.imread(path2 + i,cv2.IMREAD_GRAYSCALE)) #reading images into grayscale\n",
    "    img = cv2.resize(img,(200,200))\n",
    "    X.append(img)\n",
    "    Y.append(0) #encoding as 0 if tumor is not present\n",
    "\n",
    "\n",
    "X_flattened = np.reshape(X,(len(X),-1))\n",
    "X_flattened = X_flattened/255\n",
    "\n",
    "X_train, X_test, Y_train, Y_test = train_test_split(X_flattened,Y,random_state = 0,test_size = 0.2)"
   ]
  },
  {
   "cell_type": "code",
   "execution_count": 6,
   "metadata": {},
   "outputs": [],
   "source": [
    "rf = RandomForestClassifier(n_estimators = 733, min_samples_split = 2, min_samples_leaf = 1, max_features = 'auto', max_depth = 50, bootstrap=False)\n",
    "\n",
    "rf.fit(X_train,Y_train)\n",
    "\n",
    "# save the model to disk\n",
    "filename = './finalized_model.sav'\n",
    "joblib.dump(rf, open(filename, 'wb'))\n",
    " "
   ]
  }
 ],
 "metadata": {
  "kernelspec": {
   "display_name": "Python 3.9.13 64-bit (microsoft store)",
   "language": "python",
   "name": "python3"
  },
  "language_info": {
   "codemirror_mode": {
    "name": "ipython",
    "version": 3
   },
   "file_extension": ".py",
   "mimetype": "text/x-python",
   "name": "python",
   "nbconvert_exporter": "python",
   "pygments_lexer": "ipython3",
   "version": "3.9.13"
  },
  "orig_nbformat": 4,
  "vscode": {
   "interpreter": {
    "hash": "6cd748c59a296bfe763b534d8d6875707c2848d098a9f31feb9cbd9689b49ac6"
   }
  }
 },
 "nbformat": 4,
 "nbformat_minor": 2
}
